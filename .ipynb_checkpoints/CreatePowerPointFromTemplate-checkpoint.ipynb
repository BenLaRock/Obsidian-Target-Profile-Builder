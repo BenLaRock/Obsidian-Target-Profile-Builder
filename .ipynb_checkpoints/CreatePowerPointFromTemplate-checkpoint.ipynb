{
 "cells": [
  {
   "cell_type": "code",
   "execution_count": 1,
   "id": "02ba79d3",
   "metadata": {},
   "outputs": [],
   "source": [
    "from pptx import Presentation\n"
   ]
  },
  {
   "cell_type": "code",
   "execution_count": 2,
   "id": "03d4d73a",
   "metadata": {},
   "outputs": [
    {
     "data": {
      "text/plain": [
       "<pptx.presentation.Presentation at 0x1a1aa056740>"
      ]
     },
     "execution_count": 2,
     "metadata": {},
     "output_type": "execute_result"
    }
   ],
   "source": [
    "prs = Presentation(\"TargetProfileTemplate.pptx\")\n",
    "prs"
   ]
  },
  {
   "cell_type": "code",
   "execution_count": 3,
   "id": "2117c7a2",
   "metadata": {},
   "outputs": [],
   "source": [
    "target_profile = prs.slide_layouts[0]\n",
    "target_profile\n",
    "\n",
    "slide = prs.slides.add_slide(target_profile)\n",
    "\n",
    "# # title = slide.shapes.title\n",
    "# # subtitle = slide.placeholders[1]\n",
    "\n",
    "# # title.text = \"Hello, World!\"\n",
    "# # subtitle.text = \"python-pptx was here!\"\n",
    "\n",
    "# prs.save('TestProfile.pptx')"
   ]
  },
  {
   "cell_type": "code",
   "execution_count": 4,
   "id": "2e612da7",
   "metadata": {},
   "outputs": [
    {
     "name": "stdout",
     "output_type": "stream",
     "text": [
      "10 Text Placeholder 1\n",
      "12 Picture Placeholder 2\n",
      "13 Text Placeholder 3\n",
      "14 Picture Placeholder 4\n",
      "15 Picture Placeholder 5\n"
     ]
    }
   ],
   "source": [
    "# https://python-pptx.readthedocs.io/en/latest/user/placeholders-using.html\n",
    "# User added placeholders start at idx 10\n",
    "\n",
    "for shape in slide.placeholders:\n",
    "    print('%d %s' % (shape.placeholder_format.idx, shape.name))"
   ]
  },
  {
   "cell_type": "markdown",
   "id": "dbd59ef6",
   "metadata": {},
   "source": [
    "Need to figure out how to control bullets and new lines. \n",
    "Also need to set fonts, font sizes, and maybe colors?\n",
    "\n",
    "https://python-pptx.readthedocs.io/en/latest/user/text.html\n",
    "\n",
    "https://python-pptx.readthedocs.io/en/latest/api/text.html"
   ]
  },
  {
   "cell_type": "code",
   "execution_count": 5,
   "id": "17b98117",
   "metadata": {},
   "outputs": [],
   "source": [
    "assets_path = \"ExampleInvestigation/Assets\""
   ]
  },
  {
   "cell_type": "code",
   "execution_count": 6,
   "id": "dcf7d6b5",
   "metadata": {},
   "outputs": [
    {
     "name": "stdout",
     "output_type": "stream",
     "text": [
      "Text Placeholder 1\n"
     ]
    }
   ],
   "source": [
    "bullets_holder = slide.placeholders[10]\n",
    "print(bullets_holder.name)\n",
    "\n",
    "bullets_holder.text = \"Name: John Doe\""
   ]
  },
  {
   "cell_type": "code",
   "execution_count": 8,
   "id": "b58905ed",
   "metadata": {},
   "outputs": [
    {
     "name": "stdout",
     "output_type": "stream",
     "text": [
      "Picture Placeholder 2\n"
     ]
    },
    {
     "data": {
      "text/plain": [
       "<pptx.shapes.placeholder.PlaceholderPicture at 0x1a1aa056c80>"
      ]
     },
     "execution_count": 8,
     "metadata": {},
     "output_type": "execute_result"
    }
   ],
   "source": [
    "person_pic_holder = slide.placeholders[12]\n",
    "print(person_pic_holder.name)\n",
    "\n",
    "gaines_pic_path = f\"{assets_path}/ArronGaines.jpg\"\n",
    "person_pic_holder.insert_picture(gaines_pic_path)"
   ]
  },
  {
   "cell_type": "code",
   "execution_count": 9,
   "id": "3ab406c5",
   "metadata": {},
   "outputs": [
    {
     "name": "stdout",
     "output_type": "stream",
     "text": [
      "Text Placeholder 3\n"
     ]
    }
   ],
   "source": [
    "summary_holder = slide.placeholders[13]\n",
    "print(summary_holder.name)\n",
    "\n",
    "summary_holder.text = \"\"\"\n",
    "This is a multiline summary.\n",
    "Here is more information.\n",
    "Currently adding more information.\n",
    "\"\"\""
   ]
  },
  {
   "cell_type": "code",
   "execution_count": 10,
   "id": "d3bfa9bb",
   "metadata": {},
   "outputs": [
    {
     "name": "stdout",
     "output_type": "stream",
     "text": [
      "Picture Placeholder 4\n"
     ]
    },
    {
     "data": {
      "text/plain": [
       "<pptx.shapes.placeholder.PlaceholderPicture at 0x1a1aa057cd0>"
      ]
     },
     "execution_count": 10,
     "metadata": {},
     "output_type": "execute_result"
    }
   ],
   "source": [
    "work_pic_holder = slide.placeholders[14]\n",
    "print(work_pic_holder.name)\n",
    "\n",
    "gaines_work_pic_path = f\"{assets_path}/350CentralParkWestApartments.jpg\"\n",
    "work_pic_holder.insert_picture(gaines_work_pic_path)"
   ]
  },
  {
   "cell_type": "code",
   "execution_count": 11,
   "id": "45e60c6f",
   "metadata": {},
   "outputs": [
    {
     "name": "stdout",
     "output_type": "stream",
     "text": [
      "Picture Placeholder 5\n"
     ]
    },
    {
     "data": {
      "text/plain": [
       "<pptx.shapes.placeholder.PlaceholderPicture at 0x1a1a85bc580>"
      ]
     },
     "execution_count": 11,
     "metadata": {},
     "output_type": "execute_result"
    }
   ],
   "source": [
    "residence_pic_holder = slide.placeholders[15]\n",
    "print(residence_pic_holder.name)\n",
    "\n",
    "gaines_residence_pic_path = f\"{assets_path}/30RockefellerPlaza.jpg\"\n",
    "residence_pic_holder.insert_picture(gaines_residence_pic_path)"
   ]
  },
  {
   "cell_type": "code",
   "execution_count": 12,
   "id": "24b591dd",
   "metadata": {},
   "outputs": [],
   "source": [
    "prs.save(\"TestTargetProfileFromCode.pptx\")"
   ]
  },
  {
   "cell_type": "code",
   "execution_count": null,
   "id": "72ae641e",
   "metadata": {},
   "outputs": [],
   "source": []
  }
 ],
 "metadata": {
  "kernelspec": {
   "display_name": "Python 3 (ipykernel)",
   "language": "python",
   "name": "python3"
  },
  "language_info": {
   "codemirror_mode": {
    "name": "ipython",
    "version": 3
   },
   "file_extension": ".py",
   "mimetype": "text/x-python",
   "name": "python",
   "nbconvert_exporter": "python",
   "pygments_lexer": "ipython3",
   "version": "3.11.5"
  }
 },
 "nbformat": 4,
 "nbformat_minor": 5
}
